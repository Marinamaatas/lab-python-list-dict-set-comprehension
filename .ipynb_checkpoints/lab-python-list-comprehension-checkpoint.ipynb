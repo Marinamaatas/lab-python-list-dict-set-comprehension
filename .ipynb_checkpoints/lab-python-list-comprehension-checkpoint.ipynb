{
 "cells": [
  {
   "cell_type": "markdown",
   "id": "25d7736c-ba17-4aff-b6bb-66eba20fbf4e",
   "metadata": {},
   "source": [
    "# Lab | List, Dict and Set Comprehension"
   ]
  },
  {
   "cell_type": "markdown",
   "id": "7dd3cbde-675a-4b81-92c3-f728846dbe06",
   "metadata": {},
   "source": [
    "## Exercise: Managing Customer Orders Optimized with Comprehension"
   ]
  },
  {
   "cell_type": "markdown",
   "id": "5d500160-2fb7-4777-b5e4-09d45ebaf328",
   "metadata": {},
   "source": [
    "In the previous exercise, you developed a program to manage customer orders and inventory. Now, let's take it a step further and incorporate comprehension into your code.\n",
    "\n",
    "Follow the steps below to complete the exercise:\n",
    "\n",
    "1. Review your code from the previous exercise and identify areas where you can apply comprehension to simplify and streamline your code. \n",
    "\n",
    "    - *Hint: Apply it to initialize inventory, updating the inventory and printing the updated inventory.*\n",
    "    \n",
    "    - For example, in initializing the inventory, we could have:\n",
    "    \n",
    "        ```python\n",
    "        def initialize_inventory(products):\n",
    "            inventory = {product: int(input(f\"Enter the quantity of {product}s available: \")) for product in products}\n",
    "            return inventory\n",
    "\n",
    "        ```\n",
    "<br>\n",
    "    \n",
    "    \n",
    "2. Modify the function get_customer_orders so it prompts the user to enter the number of customer orders and gathers the product names using a loop and user input. Use comprehension.\n",
    "\n",
    "3. Add a new function to calculate the total price of the customer order. For each product in customer_orders, prompt the user to enter the price of that product. Use comprehension to calculate the total price. Note: assume that the user can only have 1 unit of each product.\n",
    "\n",
    "4. Modify the update_inventory function to remove the product from the inventory if its quantity becomes zero after fulfilling the customer orders. Use comprehension to filter out the products with a quantity of zero from the inventory.\n",
    "\n",
    "5. Print the total price of the customer order.\n",
    "\n",
    "Your code should produce output similar to the following:\n",
    "\n",
    "```python\n",
    "Enter the quantity of t-shirts available:  5\n",
    "Enter the quantity of mugs available:  4\n",
    "Enter the quantity of hats available:  3\n",
    "Enter the quantity of books available:  2\n",
    "Enter the quantity of keychains available:  1\n",
    "Enter the number of customer orders:  2\n",
    "Enter the name of a product that a customer wants to order:  hat\n",
    "Enter the name of a product that a customer wants to order:  keychain\n",
    "\n",
    "Order Statistics:\n",
    "Total Products Ordered: 2\n",
    "Percentage of Unique Products Ordered: 40.0\n",
    "\n",
    "Updated Inventory:\n",
    "t-shirt: 5\n",
    "mug: 4\n",
    "hat: 2\n",
    "book: 2\n",
    "Enter the price of keychain:  5\n",
    "Enter the price of hat:  10\n",
    "Total Price: 15.0\n",
    "\n",
    "```\n"
   ]
  },
  {
   "cell_type": "code",
   "execution_count": 3,
   "id": "47c90e67-4a32-47aa-b1ad-fde7e65b20fb",
   "metadata": {},
   "outputs": [
    {
     "name": "stdin",
     "output_type": "stream",
     "text": [
      "How many t-shirts are in the inventory?  1\n",
      "How many mugs are in the inventory?  1\n",
      "How many hats are in the inventory?  1\n",
      "How many books are in the inventory?  1\n",
      "How many keychains are in the inventory?  1\n"
     ]
    },
    {
     "name": "stdout",
     "output_type": "stream",
     "text": [
      "{'t-shirt': 1, 'mug': 1, 'hat': 1, 'book': 1, 'keychain': 1}\n"
     ]
    },
    {
     "name": "stdin",
     "output_type": "stream",
     "text": [
      "How many products would you like to order?  2\n",
      "Enter the product name (choose from t-shirt, mug, hat, book, keychain):  hat\n",
      "Enter the product name (choose from t-shirt, mug, hat, book, keychain):  mug\n"
     ]
    },
    {
     "name": "stdout",
     "output_type": "stream",
     "text": [
      "Customer Order: {'hat', 'mug'}\n"
     ]
    },
    {
     "name": "stdin",
     "output_type": "stream",
     "text": [
      "Enter the price of hat:  3\n",
      "Enter the price of mug:  4\n"
     ]
    },
    {
     "name": "stdout",
     "output_type": "stream",
     "text": [
      "the total price is 7.0\n",
      "Total Products Ordered: 2\n",
      "Percentage of Products Ordered: 40.00%\n",
      "{'t-shirt': 1, 'book': 1, 'keychain': 1}\n"
     ]
    }
   ],
   "source": [
    "products = [\"t-shirt\", \"mug\", \"hat\", \"book\", \"keychain\"]\n",
    "total_inventory = 0\n",
    "inventory = {}\n",
    "def initialize_inventory(products):\n",
    "    global total_inventory \n",
    "    for product in products:\n",
    "        quantity = int(input(f'How many {product}s are in the inventory? '))\n",
    "        inventory[product] = quantity\n",
    "        total_inventory += quantity\n",
    "    print(inventory)\n",
    "    return inventory\n",
    "\n",
    "def get_customer_orders():\n",
    "    customer_orders = set()\n",
    "    num_orders = int(input('How many products would you like to order? '))\n",
    "    for product in range(num_orders):\n",
    "        order_input = input('Enter the product name (choose from t-shirt, mug, hat, book, keychain): ').lower()\n",
    "        customer_orders.update({product for product in order_input.split() if product in products})\n",
    "    print(\"Customer Order:\", customer_orders)\n",
    "    return customer_orders\n",
    "    \n",
    "def calculate_total_price(customer_orders):\n",
    "    total_price = sum(float(input(f'Enter the price of {product}: ')) for product in customer_orders)\n",
    "    return total_price\n",
    "\n",
    "def update_inventory(inventory, customer_orders):\n",
    "    for product in customer_orders:\n",
    "        if product in inventory and inventory[product] > 0:\n",
    "            inventory[product] -= 1\n",
    "    inventory = {product: qty for product, qty in inventory.items() if qty > 0}\n",
    "    return inventory\n",
    "    \n",
    "def calculate_order_statistics(customer_orders, products):\n",
    "    total_products_ordered = len(customer_orders)\n",
    "    percentage_ordered = (total_products_ordered / total_inventory) * 100 if total_inventory > 0 else 0\n",
    "    order_status = (total_products_ordered, percentage_ordered)\n",
    "    return order_status\n",
    "\n",
    "def print_order_statistics(order_status):\n",
    "    print(f\"Total Products Ordered: {order_status[0]}\")\n",
    "    print(f\"Percentage of Products Ordered: {order_status[1]:.2f}%\")\n",
    "\n",
    "def print_updated_inventory(inventory):\n",
    "    print(inventory)\n",
    "\n",
    "new_inventory = initialize_inventory(products);\n",
    "new_customer_order = get_customer_orders();\n",
    "new_inventory = update_inventory(new_inventory, new_customer_order);\n",
    "print(f'the total price is {calculate_total_price(new_customer_order)}')\n",
    "new_order_status = calculate_order_statistics(new_customer_order, products);\n",
    "print_order_statistics(new_order_status);\n",
    "print_updated_inventory(new_inventory)"
   ]
  },
  {
   "cell_type": "code",
   "execution_count": null,
   "id": "1b834bf9-4888-4ce1-b84b-0973728f8d2d",
   "metadata": {},
   "outputs": [],
   "source": []
  }
 ],
 "metadata": {
  "kernelspec": {
   "display_name": "Python 3 (ipykernel)",
   "language": "python",
   "name": "python3"
  },
  "language_info": {
   "codemirror_mode": {
    "name": "ipython",
    "version": 3
   },
   "file_extension": ".py",
   "mimetype": "text/x-python",
   "name": "python",
   "nbconvert_exporter": "python",
   "pygments_lexer": "ipython3",
   "version": "3.12.4"
  }
 },
 "nbformat": 4,
 "nbformat_minor": 5
}
